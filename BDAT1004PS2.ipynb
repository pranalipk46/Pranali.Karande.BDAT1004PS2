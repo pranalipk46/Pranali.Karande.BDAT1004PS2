{
 "cells": [
  {
   "cell_type": "markdown",
   "id": "0605125d",
   "metadata": {},
   "source": [
    "# BDAT1004 - Data Programming : Problem Set 2"
   ]
  },
  {
   "cell_type": "markdown",
   "id": "73089ea5",
   "metadata": {},
   "source": [
    "# Question 1:\n",
    "Running and executing the given code and explaining the result"
   ]
  },
  {
   "cell_type": "code",
   "execution_count": 49,
   "id": "d842e18d",
   "metadata": {},
   "outputs": [
    {
     "data": {
      "text/plain": [
       "6"
      ]
     },
     "execution_count": 49,
     "metadata": {},
     "output_type": "execute_result"
    }
   ],
   "source": [
    "a = 0\n",
    "def b():\n",
    " global a\n",
    " a = c(a)\n",
    "def c(a):\n",
    " return a + 2\n",
    "b()\n",
    "b()\n",
    "b()\n",
    "a"
   ]
  },
  {
   "cell_type": "markdown",
   "id": "2996b0c9",
   "metadata": {},
   "source": [
    "## Explaination:\n",
    "The Python module defines a global variable a with the value of 0, and two functions b and c. b updates the value of a by calling c with a as an argument, adding 2 to the current value of a. c simply returns the value of a plus 2.\n",
    "When the module is imported and b is called three times, each call to b updates the value of a by adding 2 to the previous value. The final value of a is 6, which is displayed when the value of a is evaluated."
   ]
  },
  {
   "cell_type": "markdown",
   "id": "ba3bb315",
   "metadata": {},
   "source": [
    "#  Question 2:\n",
    "Modify function fileLength() so that a friendly message is printed instead"
   ]
  },
  {
   "cell_type": "code",
   "execution_count": 47,
   "id": "11acab7d",
   "metadata": {},
   "outputs": [
    {
     "name": "stdout",
     "output_type": "stream",
     "text": [
      "Length of the file is: 123\n",
      "File idterm.py not found\n",
      "\n",
      "Please enter a valid file name.\n"
     ]
    }
   ],
   "source": [
    "import os\n",
    "def fileLength(file_name):\n",
    "    filename = os.path.basename(file_name)\n",
    "    try:\n",
    "        file = open(file_name)\n",
    "        contents = file.read()\n",
    "        file.close()\n",
    "        print('Length of the file is:', len(contents))\n",
    "    except:\n",
    "        print('File {0} not found'.format(filename))\n",
    "        print('\\nPlease enter a valid file name.')\n",
    "        \n",
    "fileLength(\"C:\\\\Users\\\\prana\\\\OneDrive\\\\Documents\\\\Filelength.txt\")\n",
    "fileLength('idterm.py')"
   ]
  },
  {
   "cell_type": "markdown",
   "id": "3907708f",
   "metadata": {},
   "source": [
    "# Question 3\n",
    "Creating a class named Marsupial and performing the given task"
   ]
  },
  {
   "cell_type": "code",
   "execution_count": 4,
   "id": "de79cc6c",
   "metadata": {},
   "outputs": [
    {
     "name": "stdout",
     "output_type": "stream",
     "text": [
      "['doll', 'firetruck', 'kitten']\n"
     ]
    }
   ],
   "source": [
    "class Marsupial():\n",
    "    \n",
    "    def __init__(self):\n",
    "        self.myList = []\n",
    "    \n",
    "    def put_in_pouch(self, item):\n",
    "        self.myList.append(item)\n",
    "    \n",
    "    def pouch_contents(self):\n",
    "        print(self.myList)\n",
    "\n",
    "m = Marsupial()\n",
    "m.put_in_pouch('doll')            \n",
    "m.put_in_pouch('firetruck')      \n",
    "m.put_in_pouch('kitten')         \n",
    "m.pouch_contents() "
   ]
  },
  {
   "cell_type": "code",
   "execution_count": 5,
   "id": "9c31413e",
   "metadata": {},
   "outputs": [
    {
     "name": "stdout",
     "output_type": "stream",
     "text": [
      "I am a Kangaroo locate at coordinates (0, 0)\n"
     ]
    }
   ],
   "source": [
    "class Kangaroo(Marsupial):\n",
    "    def __init__(self, xcoord, ycoord):   \n",
    "        Marsupial.__init__(self)\n",
    "        self.x = xcoord\n",
    "        self.y = ycoord\n",
    "        \n",
    "    def setx(self, xcoord):\n",
    "        self.x = xcoord\n",
    "        \n",
    "    def sety(self, ycoord):\n",
    "        self.y = ycoord\n",
    "        \n",
    "    def jump(self, dx, dy):\n",
    "        self.x = self.x + dx\n",
    "        self.y = self.y + dy\n",
    "        return(self.x, self.y)\n",
    "\n",
    "    def __str__(self):\n",
    "        return 'I am a Kangaroo locate at coordinates ({}, {})'.format(self.x, self.y)\n",
    "k = Kangaroo(0,0)\n",
    "print(k)\n",
    "\n"
   ]
  },
  {
   "cell_type": "code",
   "execution_count": 6,
   "id": "6e1a32a5",
   "metadata": {},
   "outputs": [
    {
     "name": "stdout",
     "output_type": "stream",
     "text": [
      "['doll', 'firetruck', 'kitten']\n"
     ]
    }
   ],
   "source": [
    "k.put_in_pouch('doll')\n",
    "k.put_in_pouch('firetruck')\n",
    "k.put_in_pouch('kitten')\n",
    "k.pouch_contents()"
   ]
  },
  {
   "cell_type": "code",
   "execution_count": 7,
   "id": "5daeee39",
   "metadata": {},
   "outputs": [
    {
     "name": "stdout",
     "output_type": "stream",
     "text": [
      "I am a Kangaroo locate at coordinates (3, 0)\n"
     ]
    }
   ],
   "source": [
    "k.jump(1,0)\n",
    "k.jump(1,0)\n",
    "k.jump(1,0)\n",
    "print(k)"
   ]
  },
  {
   "cell_type": "markdown",
   "id": "b5ce5e1b",
   "metadata": {},
   "source": [
    "# Question 4\n",
    "Creating a function collatz() that will take a positive integer as an input and prints the collatz sequence:"
   ]
  },
  {
   "cell_type": "code",
   "execution_count": 9,
   "id": "90c7129c",
   "metadata": {},
   "outputs": [
    {
     "name": "stdout",
     "output_type": "stream",
     "text": [
      "Please enter a positive number: 1\n",
      "1\n"
     ]
    }
   ],
   "source": [
    "def collatz(x):\n",
    "    if (x == 1):        \n",
    "        print(1)\n",
    "    \n",
    "    elif (x < 1):        \n",
    "        print(\"Please enter any positive number.\")\n",
    "        \n",
    "    elif (x % 2 == 0):    \n",
    "        print(int(x))     \n",
    "        x = x/2           \n",
    "        collatz(x)        \n",
    "        \n",
    "    else:                 \n",
    "        print(int(x))     \n",
    "        x = (x*3) + 1     \n",
    "        collatz(x)        \n",
    "            \n",
    "x = int(input(\"Please enter a positive number: \"))\n",
    "collatz(x)"
   ]
  },
  {
   "cell_type": "code",
   "execution_count": 46,
   "id": "0946994e",
   "metadata": {},
   "outputs": [
    {
     "name": "stdout",
     "output_type": "stream",
     "text": [
      "Please enter a positive number: 10\n",
      "10\n",
      "5\n",
      "16\n",
      "8\n",
      "4\n",
      "2\n",
      "1\n"
     ]
    }
   ],
   "source": [
    "x = int(input(\"Please enter a positive number: \"))\n",
    "collatz(x)"
   ]
  },
  {
   "cell_type": "markdown",
   "id": "172ce64f",
   "metadata": {},
   "source": [
    "# Question 5:\n",
    "Creating a recursive method binary() which takes a positive integer and returns the binary representation of the input."
   ]
  },
  {
   "cell_type": "code",
   "execution_count": 52,
   "id": "9ebab169",
   "metadata": {},
   "outputs": [],
   "source": [
    "def binary(b_num):\n",
    "\n",
    "    if b_num< 2:\n",
    "        print(b_num)\n",
    "    else:\n",
    "        binary_x=bin(b_num)\n",
    "        print(binary_x)"
   ]
  },
  {
   "cell_type": "code",
   "execution_count": 53,
   "id": "f0996afa",
   "metadata": {},
   "outputs": [
    {
     "name": "stdout",
     "output_type": "stream",
     "text": [
      "0\n"
     ]
    }
   ],
   "source": [
    "binary(0)"
   ]
  },
  {
   "cell_type": "code",
   "execution_count": 54,
   "id": "7976b4c9",
   "metadata": {},
   "outputs": [
    {
     "name": "stdout",
     "output_type": "stream",
     "text": [
      "1\n"
     ]
    }
   ],
   "source": [
    "binary(1)"
   ]
  },
  {
   "cell_type": "code",
   "execution_count": 55,
   "id": "22b460b8",
   "metadata": {},
   "outputs": [
    {
     "name": "stdout",
     "output_type": "stream",
     "text": [
      "0b11\n"
     ]
    }
   ],
   "source": [
    "binary(3)"
   ]
  },
  {
   "cell_type": "code",
   "execution_count": 56,
   "id": "e8c0a4a0",
   "metadata": {},
   "outputs": [
    {
     "name": "stdout",
     "output_type": "stream",
     "text": [
      "0b1001\n"
     ]
    }
   ],
   "source": [
    "binary(9)"
   ]
  },
  {
   "cell_type": "markdown",
   "id": "b0ceb187",
   "metadata": {},
   "source": [
    "# Question 6:\n",
    "Having a string containing a HTML code and printing heading from the given code."
   ]
  },
  {
   "cell_type": "code",
   "execution_count": 13,
   "id": "4aadb1fd",
   "metadata": {},
   "outputs": [
    {
     "name": "stdout",
     "output_type": "stream",
     "text": [
      "W3C Mission\n",
      " Principles\n"
     ]
    }
   ],
   "source": [
    "from html.parser import HTMLParser\n",
    "\n",
    "\n",
    "class HeadingParser(HTMLParser):\n",
    "\n",
    "    x = 0      \n",
    "    y = 0     \n",
    "    \n",
    "    def handle_starttag(self, tag, attrs):\n",
    "        if tag == 'h1':\n",
    "            self.x = True\n",
    "        if tag == 'h2':\n",
    "            self.y = True    \n",
    "    def handle_data(self, data):\n",
    "        if self.x == True:\n",
    "            print(data)\n",
    "        if self.y == True:\n",
    "            print(' ' + data)\n",
    "    def handle_endtag(self, tag):\n",
    "        if tag == 'h1':\n",
    "            self.x = False\n",
    "        if tag == 'h2':\n",
    "            self.y = False\n",
    "            \n",
    "\n",
    "infile = open(\"C:\\\\Users\\\\prana\\\\Downloads\\\\w3c.html\")\n",
    "content = infile.read()\n",
    "infile.close()\n",
    "hp = HeadingParser()\n",
    "hp.feed(content)"
   ]
  },
  {
   "cell_type": "markdown",
   "id": "1fbf22b4",
   "metadata": {},
   "source": [
    "# Question 7\n",
    "Implementing recursive function webdir() that takes as input: a URL (as a string) and\n",
    "non-negative integers depth and indent. Your function should visit every web\n",
    "page reachable from the starting URL web page in depth clicks or less, and print\n",
    "each web page's URL."
   ]
  },
  {
   "cell_type": "code",
   "execution_count": 18,
   "id": "be200d0c",
   "metadata": {},
   "outputs": [
    {
     "name": "stdout",
     "output_type": "stream",
     "text": [
      "http://reed.cs.depaul.edu/lperkovic/test1.html\n",
      "    http://reed.cs.depaul.edu/lperkovic/test2.html\n",
      "        http://reed.cs.depaul.edu/lperkovic/test4.html\n",
      "    http://reed.cs.depaul.edu/lperkovic/test3.html\n",
      "        http://reed.cs.depaul.edu/lperkovic/test4.html\n"
     ]
    }
   ],
   "source": [
    "from urllib.request import urlopen\n",
    "from urllib.parse import urljoin\n",
    "from html.parser import HTMLParser\n",
    "\n",
    "class LinkAppender(HTMLParser):\n",
    "    def __init__(self, url):\n",
    "        super().__init__()\n",
    "        self.url = url\n",
    "        self.links = []\n",
    "\n",
    "    def append_links(self):\n",
    "        return self.links\n",
    "\n",
    "    def handle_starttag(self, tag, attrs):\n",
    "        if tag == 'a':\n",
    "            for attr in attrs:\n",
    "                if attr[0] == 'href':\n",
    "                    link = urljoin(self.url, attr[1])\n",
    "                    if link not in self.links and link.startswith('http'):\n",
    "                        self.links.append(link)\n",
    "\n",
    "def print_webdir(url, depth, indent=0):\n",
    "    if depth < 0:\n",
    "        return\n",
    "    print(' ' * indent + url)\n",
    "    response = urlopen(url)\n",
    "    content = response.read().decode()\n",
    "    parser = LinkAppender(url)\n",
    "    parser.feed(content)\n",
    "    links = parser.append_links()\n",
    "    for link in links:\n",
    "        print_webdir(link, depth - 1, indent + 4)\n",
    "\n",
    "print_webdir('http://reed.cs.depaul.edu/lperkovic/test1.html', 2, 0)\n"
   ]
  },
  {
   "cell_type": "markdown",
   "id": "fe2a14ba",
   "metadata": {},
   "source": [
    "# Question 8:\n",
    "## SQL queries on the given database table that returns:\n",
    "a) All the temperature data.\n",
    "b) All the cities, but without repetition.\n",
    "c) All the records for India.\n",
    "d) All the Fall records.\n",
    "e) The city, country, and season for which the average rainfall is between 200 and 400 millimeters.\n",
    "f) The city and country for which the average Fall temperature is above 20 degrees, in increasing temperature order.\n",
    "g) The total annual rainfall for Cairo.\n",
    "h) The total rainfall for each season.\n",
    "\n"
   ]
  },
  {
   "cell_type": "code",
   "execution_count": 23,
   "id": "d8ed690c",
   "metadata": {},
   "outputs": [
    {
     "data": {
      "text/plain": [
       "[('Mumbai', 'India', 'Winter', 24.8, 5.9),\n",
       " ('Mumbai', 'India', 'Spring', 28.4, 16.2),\n",
       " ('Mumbai', 'India', 'Summer', 27.9, 1549.4),\n",
       " ('Mumbai', 'India', 'Fall', 27.6, 346.0),\n",
       " ('London', 'United Kindom', 'Winter', 4.2, 207.7),\n",
       " ('London', 'United Kindom', 'Spring', 8.3, 169.6),\n",
       " ('London', 'United Kindom', 'Summer', 15.7, 157.0),\n",
       " ('London', 'United Kindom', 'Fall', 10.4, 218.5),\n",
       " ('Cairo', 'Egypt', 'Winter', 13.6, 16.5),\n",
       " ('Cairo', 'Egypt', 'Spring', 20.7, 6.5),\n",
       " ('Cairo', 'Egypt', 'Summer', 27.7, 0.1),\n",
       " ('Cairo', 'Egypt', 'Fall', 22.2, 4.5)]"
      ]
     },
     "execution_count": 23,
     "metadata": {},
     "output_type": "execute_result"
    }
   ],
   "source": [
    "import sqlite3\n",
    "x = sqlite3.connect('tempInfo.db')\n",
    "table = x.cursor()\n",
    "table.execute(\"CREATE TABLE IF NOT EXISTS tempInfo (City text, Country text, Season text, Temperature double, Rainfall double)\")\n",
    "table.execute(\"INSERT INTO tempInfo VALUES ('Mumbai', 'India', 'Winter', 24.8, 5.9), ('Mumbai','India', 'Spring', 28.4, 16.2), ('Mumbai','India', 'Summer', 27.9, 1549.4), ('Mumbai','India', 'Fall', 27.6, 346.0)\")\n",
    "table.execute(\"INSERT INTO tempInfo VALUES ('London', 'United Kindom', 'Winter', 4.2, 207.7), ('London', 'United Kindom', 'Spring', 8.3, 169.6), ('London', 'United Kindom', 'Summer', 15.7, 157.0), ('London', 'United Kindom', 'Fall', 10.4, 218.5)\")\n",
    "table.execute(\"INSERT INTO tempInfo VALUES ('Cairo', 'Egypt', 'Winter', 13.6, 16.5), ('Cairo', 'Egypt', 'Spring', 20.7, 6.5), ('Cairo', 'Egypt', 'Summer', 27.7, 0.1), ('Cairo', 'Egypt', 'Fall', 22.2, 4.5)\")\n",
    "\n",
    "table.execute('SELECT * FROM tempInfo')\n",
    "table.fetchall()"
   ]
  },
  {
   "cell_type": "code",
   "execution_count": 25,
   "id": "84112913",
   "metadata": {},
   "outputs": [
    {
     "name": "stdout",
     "output_type": "stream",
     "text": [
      "(24.8,)\n",
      "(28.4,)\n",
      "(27.9,)\n",
      "(27.6,)\n",
      "(4.2,)\n",
      "(8.3,)\n",
      "(15.7,)\n",
      "(10.4,)\n",
      "(13.6,)\n",
      "(20.7,)\n",
      "(27.7,)\n",
      "(22.2,)\n"
     ]
    }
   ],
   "source": [
    "#a) Extracting all the temperature data :\n",
    "table.execute(\"SELECT Temperature FROM tempInfo\")\n",
    "for i in table:\n",
    "    print(i)"
   ]
  },
  {
   "cell_type": "code",
   "execution_count": 27,
   "id": "d8512430",
   "metadata": {},
   "outputs": [
    {
     "name": "stdout",
     "output_type": "stream",
     "text": [
      "('Mumbai',)\n",
      "('London',)\n",
      "('Cairo',)\n"
     ]
    }
   ],
   "source": [
    "#b) Extracting all the cities, but without repetition :\n",
    "table.execute(\"SELECT DISTINCT City FROM tempInfo\")\n",
    "for i in table:\n",
    "    print(i)"
   ]
  },
  {
   "cell_type": "code",
   "execution_count": 28,
   "id": "e5deb33b",
   "metadata": {},
   "outputs": [
    {
     "name": "stdout",
     "output_type": "stream",
     "text": [
      "('Mumbai', 'India', 'Winter', 24.8, 5.9)\n",
      "('Mumbai', 'India', 'Spring', 28.4, 16.2)\n",
      "('Mumbai', 'India', 'Summer', 27.9, 1549.4)\n",
      "('Mumbai', 'India', 'Fall', 27.6, 346.0)\n"
     ]
    }
   ],
   "source": [
    "#c) Extracting all the records for India :\n",
    "table.execute(\"SELECT * FROM tempInfo WHERE Country='India'\")\n",
    "for i in table:\n",
    "    print(i)"
   ]
  },
  {
   "cell_type": "code",
   "execution_count": 30,
   "id": "f9bc7a57",
   "metadata": {},
   "outputs": [
    {
     "name": "stdout",
     "output_type": "stream",
     "text": [
      "('Mumbai', 'India', 'Fall', 27.6, 346.0)\n",
      "('London', 'United Kindom', 'Fall', 10.4, 218.5)\n",
      "('Cairo', 'Egypt', 'Fall', 22.2, 4.5)\n"
     ]
    }
   ],
   "source": [
    "#d) Extracting all Fall records :\n",
    "table.execute(\"SELECT * FROM tempInfo WHERE Season='Fall'\")\n",
    "for i in table:\n",
    "    print(i)\n"
   ]
  },
  {
   "cell_type": "code",
   "execution_count": 31,
   "id": "2e42b3e3",
   "metadata": {},
   "outputs": [
    {
     "name": "stdout",
     "output_type": "stream",
     "text": [
      "('Mumbai', 'India', 'Fall')\n",
      "('London', 'United Kindom', 'Winter')\n",
      "('London', 'United Kindom', 'Fall')\n"
     ]
    }
   ],
   "source": [
    "#e) Extracting cities, countries and seasons whose average rainfall is between 200 and 400 millimeters :\n",
    "table.execute(\"SELECT City,Country,Season FROM tempInfo WHERE Rainfall>200 AND Rainfall<400\")\n",
    "for i in table:\n",
    "    print(i)"
   ]
  },
  {
   "cell_type": "code",
   "execution_count": 32,
   "id": "a19e0e39",
   "metadata": {},
   "outputs": [
    {
     "name": "stdout",
     "output_type": "stream",
     "text": [
      "('Cairo', 'Egypt')\n",
      "('Mumbai', 'India')\n"
     ]
    }
   ],
   "source": [
    "#f) Extracting cities and countries whose average Fall temperature is above 20 and that too in increasing temperature order :\n",
    "table.execute(\"SELECT City,Country FROM tempInfo WHERE Season='Fall' AND Temperature>20 ORDER BY Temperature ASC\")\n",
    "for i in table:\n",
    "    print(i)"
   ]
  },
  {
   "cell_type": "code",
   "execution_count": 33,
   "id": "face6082",
   "metadata": {},
   "outputs": [
    {
     "name": "stdout",
     "output_type": "stream",
     "text": [
      "(27.6,)\n"
     ]
    }
   ],
   "source": [
    "#g) Calculating the total annual rainfall for Cairo :\n",
    "table.execute(\"SELECT SUM(Rainfall) FROM tempInfo WHERE City='Cairo'\")\n",
    "for i in table:\n",
    "    print(i)"
   ]
  },
  {
   "cell_type": "code",
   "execution_count": 34,
   "id": "a1af7d16",
   "metadata": {},
   "outputs": [
    {
     "name": "stdout",
     "output_type": "stream",
     "text": [
      "('Fall', 569.0)\n",
      "('Spring', 192.29999999999998)\n",
      "('Summer', 1706.5)\n",
      "('Winter', 230.1)\n"
     ]
    }
   ],
   "source": [
    "#h) Calculating the total Rainfall for each season :\n",
    "table.execute(\"SELECT Season, SUM(Rainfall) FROM tempInfo GROUP BY Season;\")\n",
    "for i in table:\n",
    "    print(i)"
   ]
  },
  {
   "cell_type": "markdown",
   "id": "4932f3c1",
   "metadata": {},
   "source": [
    "# 9)Listing the comprehension expressions by using the given list of words :"
   ]
  },
  {
   "cell_type": "code",
   "execution_count": 35,
   "id": "73e8a1d5",
   "metadata": {},
   "outputs": [
    {
     "name": "stdout",
     "output_type": "stream",
     "text": [
      "['The', 'quick', 'brown', 'fox', 'jumps', 'over', 'the', 'lazy', 'dog']\n"
     ]
    }
   ],
   "source": [
    "list = ['The','quick','brown','fox','jumps','over','the','lazy','dog']\n",
    "print(list)"
   ]
  },
  {
   "cell_type": "code",
   "execution_count": 36,
   "id": "460b005a",
   "metadata": {},
   "outputs": [
    {
     "name": "stdout",
     "output_type": "stream",
     "text": [
      "['THE', 'QUICK', 'BROWN', 'FOX', 'JUMPS', 'OVER', 'THE', 'LAZY', 'DOG']\n"
     ]
    }
   ],
   "source": [
    "#a)Converting the list to upper case :\n",
    "upper_case = [.upper() for upr_wrd in list]\n",
    "print(upper_case)"
   ]
  },
  {
   "cell_type": "code",
   "execution_count": 39,
   "id": "8ce25c9b",
   "metadata": {},
   "outputs": [
    {
     "name": "stdout",
     "output_type": "stream",
     "text": [
      "['the', 'quick', 'brown', 'fox', 'jumps', 'over', 'the', 'lazy', 'dog']\n"
     ]
    }
   ],
   "source": [
    "#b) Converting the list to lower case :\n",
    "lower_case = [word.lower() for word in list]\n",
    "print(lower_case)"
   ]
  },
  {
   "cell_type": "code",
   "execution_count": 40,
   "id": "9683fb1f",
   "metadata": {},
   "outputs": [
    {
     "name": "stdout",
     "output_type": "stream",
     "text": [
      "[3, 5, 5, 3, 5, 4, 3, 4, 3]\n"
     ]
    }
   ],
   "source": [
    "#c) Counting length of each word in the list :\n",
    "length = [len(word) for word in list]\n",
    "print(length)"
   ]
  },
  {
   "cell_type": "code",
   "execution_count": 44,
   "id": "d0d89e6e",
   "metadata": {},
   "outputs": [
    {
     "name": "stdout",
     "output_type": "stream",
     "text": [
      "[('THE', 'the', 3), ('QUICK', 'quick', 5), ('BROWN', 'brown', 5), ('FOX', 'fox', 3), ('JUMPS', 'jumps', 5), ('OVER', 'over', 4), ('THE', 'the', 3), ('LAZY', 'lazy', 4), ('DOG', 'dog', 3)]\n"
     ]
    }
   ],
   "source": [
    "#d) Converting each word into upper case, lower case and counting the length of each word provided in the list :\n",
    "allInOne = [(word.upper(),word.lower(),len(word)) for word in list]\n",
    "print(allInOne)"
   ]
  },
  {
   "cell_type": "code",
   "execution_count": 45,
   "id": "2a43d44c",
   "metadata": {},
   "outputs": [
    {
     "name": "stdout",
     "output_type": "stream",
     "text": [
      "['quick', 'brown', 'jumps', 'over', 'lazy']\n"
     ]
    }
   ],
   "source": [
    "#e) Extracting the words from the list whose length is greater than 4 :\n",
    "aboveFour = [word for word in list if len(word)>=4]\n",
    "print(aboveFour)"
   ]
  },
  {
   "cell_type": "code",
   "execution_count": null,
   "id": "fb35d48e",
   "metadata": {},
   "outputs": [],
   "source": []
  }
 ],
 "metadata": {
  "kernelspec": {
   "display_name": "Python 3 (ipykernel)",
   "language": "python",
   "name": "python3"
  },
  "language_info": {
   "codemirror_mode": {
    "name": "ipython",
    "version": 3
   },
   "file_extension": ".py",
   "mimetype": "text/x-python",
   "name": "python",
   "nbconvert_exporter": "python",
   "pygments_lexer": "ipython3",
   "version": "3.9.13"
  }
 },
 "nbformat": 4,
 "nbformat_minor": 5
}
